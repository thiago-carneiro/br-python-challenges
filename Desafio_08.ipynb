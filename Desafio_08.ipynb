{
  "nbformat": 4,
  "nbformat_minor": 0,
  "metadata": {
    "anaconda-cloud": {},
    "kernelspec": {
      "display_name": "Python 3",
      "language": "python",
      "name": "python3"
    },
    "language_info": {
      "codemirror_mode": {
        "name": "ipython",
        "version": 3
      },
      "file_extension": ".py",
      "mimetype": "text/x-python",
      "name": "python",
      "nbconvert_exporter": "python",
      "pygments_lexer": "ipython3",
      "version": "3.6.5"
    },
    "colab": {
      "name": "Desafio 8.ipynb",
      "provenance": [],
      "include_colab_link": true
    }
  },
  "cells": [
    {
      "cell_type": "markdown",
      "metadata": {
        "id": "view-in-github",
        "colab_type": "text"
      },
      "source": [
        "<a href=\"https://colab.research.google.com/github/thiago-carneiro/br-python-challenges/blob/master/Desafio_08.ipynb\" target=\"_parent\"><img src=\"https://colab.research.google.com/assets/colab-badge.svg\" alt=\"Open In Colab\"/></a>"
      ]
    },
    {
      "cell_type": "markdown",
      "metadata": {
        "id": "o3tkeMDNf6Jo"
      },
      "source": [
        "### Desafio 8\n",
        "\n",
        "Escreva um script Python para encontrar as 10 palavras mais longas em um arquivo.\n",
        "\n",
        "O arquivo TXT está localizado na mesma pasta do projeto (texto.txt)."
      ]
    },
    {
      "cell_type": "code",
      "metadata": {
        "id": "DX9I2o28KPl5"
      },
      "source": [
        "# Seu código\n",
        "import urllib.request\n",
        "\n",
        "local = \"https://raw.githubusercontent.com/thiago-carneiro/br-python-challenges/master/texto.txt\"\n",
        "arquivo = urllib.request.urlopen(local)"
      ],
      "execution_count": 21,
      "outputs": []
    },
    {
      "cell_type": "code",
      "metadata": {
        "id": "EknxjSG0f6Jo",
        "outputId": "fae563f2-338a-4e07-dd47-71c7088be606",
        "colab": {
          "base_uri": "https://localhost:8080/",
          "height": 86
        }
      },
      "source": [
        "texto=arquivo.read().decode(\"utf-8\")\n",
        "texto\n",
        "#palavras=set(texto.splitlines().split(\"\").trim())"
      ],
      "execution_count": 22,
      "outputs": [
        {
          "output_type": "execute_result",
          "data": {
            "application/vnd.google.colaboratory.intrinsic+json": {
              "type": "string"
            },
            "text/plain": [
              "'What is Python language?                                                \\r\\nPython is a widely used high-level, general-purpose, interpreted, dynamic programming language.Its design philosophy emphasizes code readability, and its syntax allows programmers to express concepts in fewer lines of code than possible in \\r\\nlanguages such as C++ or Java. \\r\\nPython supports multiple programming paradigms, including object-oriented, imperative and functional programming or procedural styles.It features a dynamic type system and automatic memory management and has a large and comprehensive standard library.The best way we learn anything is by practice and exercise questions. We  have started this section for those (beginner to intermediate) who are familiar with Python.'"
            ]
          },
          "metadata": {
            "tags": []
          },
          "execution_count": 22
        }
      ]
    },
    {
      "cell_type": "code",
      "metadata": {
        "id": "ZYbqEWBG5nKx"
      },
      "source": [
        "#(\" \".join((texto.splitlines()).apply(str.strip)))#.split(\" \") -- não existe apply em list\n",
        "#\" \".join(map(str.strip,texto.splitlines())) -- ok\n",
        "lista=\" \".join(map(str.strip,texto.splitlines())).replace(\".\",\" \").replace(\"?\",\" \").replace(\",\",\" \").replace(\"(\",\" \").replace(\")\",\" \").split(\" \")\n",
        "while \"\" in lista: lista.remove(\"\")\n",
        "conjunto=set(lista)"
      ],
      "execution_count": 49,
      "outputs": []
    },
    {
      "cell_type": "code",
      "metadata": {
        "id": "s39XE5KVSwjK",
        "outputId": "8a4c8161-e8dc-4824-80ce-42ad5b9af1b5",
        "colab": {
          "base_uri": "https://localhost:8080/",
          "height": 187
        }
      },
      "source": [
        "ordenado=sorted(conjunto,key=lambda x:-len(x))\n",
        "ordenado[:10]"
      ],
      "execution_count": 55,
      "outputs": [
        {
          "output_type": "execute_result",
          "data": {
            "text/plain": [
              "['general-purpose',\n",
              " 'object-oriented',\n",
              " 'comprehensive',\n",
              " 'intermediate',\n",
              " 'programming',\n",
              " 'interpreted',\n",
              " 'readability',\n",
              " 'programmers',\n",
              " 'imperative',\n",
              " 'philosophy']"
            ]
          },
          "metadata": {
            "tags": []
          },
          "execution_count": 55
        }
      ]
    }
  ]
}